{
  "nbformat": 4,
  "nbformat_minor": 0,
  "metadata": {
    "colab": {
      "provenance": [],
      "include_colab_link": true
    },
    "kernelspec": {
      "name": "python3",
      "display_name": "Python 3"
    },
    "language_info": {
      "name": "python"
    }
  },
  "cells": [
    {
      "cell_type": "markdown",
      "metadata": {
        "id": "view-in-github",
        "colab_type": "text"
      },
      "source": [
        "<a href=\"https://colab.research.google.com/github/BajajF/DAV/blob/main/D11AD_04_Exp8.ipynb\" target=\"_parent\"><img src=\"https://colab.research.google.com/assets/colab-badge.svg\" alt=\"Open In Colab\"/></a>"
      ]
    },
    {
      "cell_type": "markdown",
      "source": [
        "##Khushi Bajaj D11AD 04"
      ],
      "metadata": {
        "id": "L8T58o8_n4Yq"
      }
    },
    {
      "cell_type": "code",
      "source": [
        "%%html\n",
        "<!DOCTYPE html>\n",
        "<html lang=\"en\">\n",
        "<head>\n",
        "    <meta charset=\"UTF-8\">\n",
        "    <meta name=\"viewport\" content=\"width=device-width, initial-scale=1.0\">\n",
        "    <title>Data-Based D3.js Example</title>\n",
        "    <script src=\"https://d3js.org/d3.v5.min.js\"></script>\n",
        "</head>\n",
        "<body>\n",
        "\n",
        "    <svg id=\"barChart\" width=\"400\" height=\"300\"></svg>\n",
        "\n",
        "    <script>\n",
        "        var data = [25, 50, 100, 150, 200];\n",
        "        var svg = d3.select(\"#barChart\");\n",
        "        svg.selectAll(\"rect\")\n",
        "            .data(data)\n",
        "            .enter().append(\"rect\")\n",
        "            .attr(\"x\", function(d, i) { return i * 80; })\n",
        "            .attr(\"y\", function(d) { return 200 - d; })\n",
        "            .attr(\"width\", 60)\n",
        "            .attr(\"height\", function(d) { return d; })\n",
        "            .attr(\"class\", \"bar\")\n",
        "            .attr(\"fill\", \"steelblue\")\n",
        "    </script>\n",
        "\n",
        "</body>\n",
        "</html>"
      ],
      "metadata": {
        "colab": {
          "base_uri": "https://localhost:8080/",
          "height": 322
        },
        "id": "fxpixyB0gbAf",
        "outputId": "9ed7013d-2f9a-4779-cd7f-f52d6ed89bdf"
      },
      "execution_count": null,
      "outputs": [
        {
          "output_type": "display_data",
          "data": {
            "text/plain": [
              "<IPython.core.display.HTML object>"
            ],
            "text/html": [
              "<!DOCTYPE html>\n",
              "<html lang=\"en\">\n",
              "<head>\n",
              "    <meta charset=\"UTF-8\">\n",
              "    <meta name=\"viewport\" content=\"width=device-width, initial-scale=1.0\">\n",
              "    <title>Data-Based D3.js Example</title>\n",
              "    <script src=\"https://d3js.org/d3.v5.min.js\"></script>\n",
              "</head>\n",
              "<body>\n",
              "\n",
              "    <svg id=\"barChart\" width=\"400\" height=\"300\"></svg>\n",
              "\n",
              "    <script>\n",
              "        var data = [25, 50, 100, 150, 200];\n",
              "        var svg = d3.select(\"#barChart\");\n",
              "        svg.selectAll(\"rect\")\n",
              "            .data(data)\n",
              "            .enter().append(\"rect\")\n",
              "            .attr(\"x\", function(d, i) { return i * 80; })\n",
              "            .attr(\"y\", function(d) { return 200 - d; })\n",
              "            .attr(\"width\", 60)\n",
              "            .attr(\"height\", function(d) { return d; })\n",
              "            .attr(\"class\", \"bar\")\n",
              "            .attr(\"fill\", \"steelblue\")\n",
              "    </script>\n",
              "\n",
              "</body>\n",
              "</html>\n"
            ]
          },
          "metadata": {}
        }
      ]
    },
    {
      "cell_type": "code",
      "source": [
        "%%html\n",
        "<!DOCTYPE html>\n",
        "<html lang=\"en\">\n",
        "<head>\n",
        "    <meta charset=\"UTF-8\">\n",
        "    <meta name=\"viewport\" content=\"width=device-width, initial-scale=1.0\">\n",
        "    <title>Data-Based D3.js Pie Chart Example</title>\n",
        "    <script src=\"https://d3js.org/d3.v5.min.js\"></script>\n",
        "</head>\n",
        "<body>\n",
        "\n",
        "    <svg id=\"pieChart\" width=\"400\" height=\"400\"></svg>\n",
        "\n",
        "    <script>\n",
        "        var data = [30, 40, 50];\n",
        "\n",
        "        var svg = d3.select(\"#pieChart\")\n",
        "            .append(\"g\")\n",
        "            .attr(\"transform\", \"translate(200,200)\"); // Center the pie chart\n",
        "        var pie = d3.pie();\n",
        "\n",
        "        var arc = d3.arc()\n",
        "            .innerRadius(0)\n",
        "            .outerRadius(100);\n",
        "\n",
        "        var arcs = svg.selectAll(\"path\")\n",
        "            .data(pie(data))\n",
        "            .enter().append(\"path\")\n",
        "            .attr(\"d\", arc)\n",
        "            .attr(\"fill\", function(d, i) {\n",
        "                return d3.schemePaired[i]; // Use a color scheme for each slice\n",
        "            })\n",
        "    </script>\n",
        "\n",
        "</body>\n",
        "</html>\n"
      ],
      "metadata": {
        "colab": {
          "base_uri": "https://localhost:8080/",
          "height": 422
        },
        "id": "048JASvPk7BP",
        "outputId": "e3acd4c7-8631-488a-b2dc-7e0de0f88e6a"
      },
      "execution_count": null,
      "outputs": [
        {
          "output_type": "display_data",
          "data": {
            "text/plain": [
              "<IPython.core.display.HTML object>"
            ],
            "text/html": [
              "<!DOCTYPE html>\n",
              "<html lang=\"en\">\n",
              "<head>\n",
              "    <meta charset=\"UTF-8\">\n",
              "    <meta name=\"viewport\" content=\"width=device-width, initial-scale=1.0\">\n",
              "    <title>Data-Based D3.js Pie Chart Example</title>\n",
              "    <script src=\"https://d3js.org/d3.v5.min.js\"></script>\n",
              "</head>\n",
              "<body>\n",
              "\n",
              "    <svg id=\"pieChart\" width=\"400\" height=\"400\"></svg>\n",
              "\n",
              "    <script>\n",
              "        var data = [30, 40, 50];\n",
              "\n",
              "        var svg = d3.select(\"#pieChart\")\n",
              "            .append(\"g\")\n",
              "            .attr(\"transform\", \"translate(200,200)\"); // Center the pie chart\n",
              "        var pie = d3.pie();\n",
              "\n",
              "        var arc = d3.arc()\n",
              "            .innerRadius(0)\n",
              "            .outerRadius(100);\n",
              "\n",
              "        var arcs = svg.selectAll(\"path\")\n",
              "            .data(pie(data))\n",
              "            .enter().append(\"path\")\n",
              "            .attr(\"d\", arc)\n",
              "            .attr(\"fill\", function(d, i) {\n",
              "                return d3.schemePaired[i]; // Use a color scheme for each slice\n",
              "            })\n",
              "    </script>\n",
              "\n",
              "</body>\n",
              "</html>\n"
            ]
          },
          "metadata": {}
        }
      ]
    }
  ]
}