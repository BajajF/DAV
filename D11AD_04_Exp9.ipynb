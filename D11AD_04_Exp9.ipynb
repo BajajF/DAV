{
  "nbformat": 4,
  "nbformat_minor": 0,
  "metadata": {
    "colab": {
      "provenance": [],
      "authorship_tag": "ABX9TyPSHDxG38ECgJWxXiNVdu6E",
      "include_colab_link": true
    },
    "kernelspec": {
      "name": "python3",
      "display_name": "Python 3"
    },
    "language_info": {
      "name": "python"
    }
  },
  "cells": [
    {
      "cell_type": "markdown",
      "metadata": {
        "id": "view-in-github",
        "colab_type": "text"
      },
      "source": [
        "<a href=\"https://colab.research.google.com/github/BajajF/DAV/blob/main/D11AD_04_Exp9.ipynb\" target=\"_parent\"><img src=\"https://colab.research.google.com/assets/colab-badge.svg\" alt=\"Open In Colab\"/></a>"
      ]
    },
    {
      "cell_type": "code",
      "execution_count": null,
      "metadata": {
        "colab": {
          "base_uri": "https://localhost:8080/",
          "height": 522
        },
        "id": "nxjXf38MUh-m",
        "outputId": "b761406f-5621-45d6-d45b-ea5916e1a416"
      },
      "outputs": [
        {
          "output_type": "display_data",
          "data": {
            "text/plain": [
              "<IPython.core.display.HTML object>"
            ],
            "text/html": [
              "<!DOCTYPE html>\n",
              "<html>\n",
              "  <head>\n",
              "    <title>Let's make a map with D3.js!</title>\n",
              "    <link rel=\"stylesheet\" href=\"\">\n",
              "    <script src=\"https://d3js.org/d3.v5.min.js\"></script>\n",
              "    <script src=\"https://unpkg.com/topojson@3.0.2/dist/topojson.min.js\"></script>\n",
              "    <style>\n",
              "      body {\n",
              "        margin: 0px;\n",
              "        overflow: hidden;\n",
              "      }\n",
              "\n",
              "      .sphere {\n",
              "        fill: #4242e4;\n",
              "      }\n",
              "\n",
              "      .country {\n",
              "        fill: lightgreen;\n",
              "        stroke: black;\n",
              "        stroke-opacity: 0.1;\n",
              "      }\n",
              "    </style>\n",
              "  </head>\n",
              "  <body>\n",
              "    <svg width=\"960\" height=\"500\"></svg>\n",
              "    <script>\n",
              "      const svg = d3.select('svg');\n",
              "\n",
              "      const projection = d3.geoNaturalEarth1();\n",
              "      const pathGenerator = d3.geoPath().projection(projection);\n",
              "\n",
              "      svg.append('path')\n",
              "          .attr('class', 'sphere')\n",
              "          .attr('d', pathGenerator({ type: 'Sphere' }));\n",
              "\n",
              "      d3.json('https://unpkg.com/world-atlas@1.1.4/world/110m.json')\n",
              "        .then(data => {\n",
              "          const countries = topojson.feature(data, data.objects.countries);\n",
              "          svg.selectAll('path').data(countries.features)\n",
              "            .enter().append('path')\n",
              "              .attr('class', 'country')\n",
              "              .attr('d', pathGenerator);\n",
              "        })\n",
              "        .catch(error => {\n",
              "          console.error('Error loading the data:', error);\n",
              "        });\n",
              "    </script>\n",
              "  </body>\n",
              "</html>\n",
              "\n"
            ]
          },
          "metadata": {}
        }
      ],
      "source": [
        "%%html\n",
        "<!DOCTYPE html>\n",
        "<html>\n",
        "  <head>\n",
        "    <title>Let's make a map with D3.js!</title>\n",
        "    <link rel=\"stylesheet\" href=\"\">\n",
        "    <script src=\"https://d3js.org/d3.v5.min.js\"></script>\n",
        "    <script src=\"https://unpkg.com/topojson@3.0.2/dist/topojson.min.js\"></script>\n",
        "    <style>\n",
        "      body {\n",
        "        margin: 0px;\n",
        "        overflow: hidden;\n",
        "      }\n",
        "\n",
        "      .sphere {\n",
        "        fill: #4242e4;\n",
        "      }\n",
        "\n",
        "      .country {\n",
        "        fill: lightgreen;\n",
        "        stroke: black;\n",
        "        stroke-opacity: 0.1;\n",
        "      }\n",
        "    </style>\n",
        "  </head>\n",
        "  <body>\n",
        "    <svg width=\"960\" height=\"500\"></svg>\n",
        "    <script>\n",
        "      const svg = d3.select('svg');\n",
        "\n",
        "      const projection = d3.geoNaturalEarth1();\n",
        "      const pathGenerator = d3.geoPath().projection(projection);\n",
        "\n",
        "      svg.append('path')\n",
        "          .attr('class', 'sphere')\n",
        "          .attr('d', pathGenerator({ type: 'Sphere' }));\n",
        "\n",
        "      d3.json('https://unpkg.com/world-atlas@1.1.4/world/110m.json')\n",
        "        .then(data => {\n",
        "          const countries = topojson.feature(data, data.objects.countries);\n",
        "          svg.selectAll('path').data(countries.features)\n",
        "            .enter().append('path')\n",
        "              .attr('class', 'country')\n",
        "              .attr('d', pathGenerator);\n",
        "        })\n",
        "        .catch(error => {\n",
        "          console.error('Error loading the data:', error);\n",
        "        });\n",
        "    </script>\n",
        "  </body>\n",
        "</html>\n",
        "\n"
      ]
    }
  ]
}